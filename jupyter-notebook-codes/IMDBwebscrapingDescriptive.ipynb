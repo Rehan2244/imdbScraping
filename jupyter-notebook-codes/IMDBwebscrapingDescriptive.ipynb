{
 "cells": [
  {
   "cell_type": "markdown",
   "metadata": {},
   "source": [
    "# Data Scraping IMDB Movie Site using Python"
   ]
  },
  {
   "cell_type": "markdown",
   "metadata": {},
   "source": [
    "### Import Modules: "
   ]
  },
  {
   "cell_type": "code",
   "execution_count": 36,
   "metadata": {},
   "outputs": [],
   "source": [
    "import pandas as pd\n",
    "import numpy as np\n",
    "import re\n",
    "import lxml\n",
    "\n",
    "from bs4 import BeautifulSoup\n",
    "from requests import get\n",
    "%matplotlib inline"
   ]
  },
  {
   "cell_type": "markdown",
   "metadata": {},
   "source": [
    "##### Get the link of the page for the top 100 most popular movies:"
   ]
  },
  {
   "cell_type": "code",
   "execution_count": 3,
   "metadata": {},
   "outputs": [],
   "source": [
    "url= \"https://www.imdb.com/search/title?count=100&title_type=feature,tv_series&ref_=nv_wl_img_2\""
   ]
  },
  {
   "cell_type": "markdown",
   "metadata": {},
   "source": [
    "##### Get the html of the page using requests.get(url) framework"
   ]
  },
  {
   "cell_type": "code",
   "execution_count": 4,
   "metadata": {},
   "outputs": [],
   "source": [
    "page = get(url)"
   ]
  },
  {
   "cell_type": "markdown",
   "metadata": {},
   "source": [
    "##### Using Beautifulsoup and lxml to parse the html data"
   ]
  },
  {
   "cell_type": "code",
   "execution_count": 13,
   "metadata": {},
   "outputs": [],
   "source": [
    "soup = BeautifulSoup(page.content, 'lxml')"
   ]
  },
  {
   "cell_type": "markdown",
   "metadata": {},
   "source": [
    "## Get the element or tag that holds the movie contents\n",
    "![id-main-image](https://github.com/Reljod/Data-Scraping-IMDB-Movie-Site-using-Python/blob/master/imdb/idmain.png)"
   ]
  },
  {
   "cell_type": "code",
   "execution_count": 16,
   "metadata": {},
   "outputs": [],
   "source": [
    "content = soup.find(id=\"main\")"
   ]
  },
  {
   "cell_type": "markdown",
   "metadata": {},
   "source": [
    "## Get Article Title\n",
    "#**soup.find(\"h1\", class_=\"header\")** finds the first line that has **h1** tag and has a **class** header.<br>\n",
    "#**.text** gets the text of that line or that element.<br>\n",
    "#**.replace(\"\\n\",\"\")** just erases **\\n**."
   ]
  },
  {
   "cell_type": "code",
   "execution_count": 25,
   "metadata": {},
   "outputs": [],
   "source": [
    "articleTitle = soup.find(\"h1\", class_=\"header\").text.replace(\"\\n\",\"\")"
   ]
  },
  {
   "cell_type": "code",
   "execution_count": 27,
   "metadata": {},
   "outputs": [],
   "source": [
    "movieFrame = content.find_all(\"div\", class_=\"lister-item mode-advanced\")"
   ]
  },
  {
   "cell_type": "code",
   "execution_count": 31,
   "metadata": {},
   "outputs": [],
   "source": [
    "movieFirstLine = movieFrame[0].find(\"h3\", class_=\"lister-item-header\")"
   ]
  },
  {
   "cell_type": "code",
   "execution_count": 34,
   "metadata": {},
   "outputs": [],
   "source": [
    "movieTitle = movieFirstLine.find(\"a\").text"
   ]
  },
  {
   "cell_type": "code",
   "execution_count": 45,
   "metadata": {},
   "outputs": [],
   "source": [
    "movieDate = re.sub(r\"[()]\",\"\", movieFirstLine.find_all(\"span\")[-1].text)"
   ]
  },
  {
   "cell_type": "code",
   "execution_count": 52,
   "metadata": {},
   "outputs": [],
   "source": [
    "movieRunTime = movieFrame[0].find(\"span\", class_=\"runtime\").text[:-4]"
   ]
  },
  {
   "cell_type": "code",
   "execution_count": 71,
   "metadata": {},
   "outputs": [],
   "source": [
    "movieGenre = movieFrame[0].find(\"span\", class_=\"genre\").text.rstrip().replace(\"\\n\",\"\").split(\",\")"
   ]
  },
  {
   "cell_type": "code",
   "execution_count": 74,
   "metadata": {},
   "outputs": [],
   "source": [
    "movieRating = movieFrame[0].find(\"strong\").text"
   ]
  },
  {
   "cell_type": "code",
   "execution_count": 78,
   "metadata": {},
   "outputs": [],
   "source": [
    "movieScore = movieFrame[0].find(\"span\", class_=\"metascore unfavorable\").text.rstrip()"
   ]
  },
  {
   "cell_type": "code",
   "execution_count": 105,
   "metadata": {},
   "outputs": [],
   "source": [
    "movieDesc = movieFrame[0].find_all(\"p\", class_=\"text-muted\")[-1].text.lstrip()"
   ]
  },
  {
   "cell_type": "code",
   "execution_count": 118,
   "metadata": {},
   "outputs": [],
   "source": [
    "movieCast = movieFrame[0].find(\"p\", class_=\"\")"
   ]
  },
  {
   "cell_type": "code",
   "execution_count": 165,
   "metadata": {},
   "outputs": [],
   "source": [
    "#Movie Director and Movie Stars\n",
    "try:\n",
    "    casts = movieCast.text.replace(\"\\n\",\"\").split('|')\n",
    "    casts = [x.strip() for x in casts]\n",
    "    casts = [casts[i].replace(j, \"\") for i,j in enumerate([\"Director:\", \"Stars:\"])]\n",
    "    movieDirector = casts[0]\n",
    "    movieStars = [x.strip() for x in casts[1].split(\",\")]\n",
    "except:\n",
    "    casts = movieCast.text.replace(\"\\n\",\"\").strip()\n",
    "    movieDirector = np.nan\n",
    "    movieStars = [x.strip() for x in casts.split(\",\")]"
   ]
  },
  {
   "cell_type": "code",
   "execution_count": 212,
   "metadata": {},
   "outputs": [],
   "source": [
    "movieNumbers = movieFrame[0].find_all(\"span\", attrs={\"name\": \"nv\"})"
   ]
  },
  {
   "cell_type": "code",
   "execution_count": 214,
   "metadata": {},
   "outputs": [],
   "source": [
    "if len(movieNumbers) == 2:\n",
    "    movieVotes = movieNumbers[0].text\n",
    "    movieGross = movieNumbers[1].text\n",
    "else:\n",
    "    movieVotes = movieNumbers[0].text\n",
    "    movieGross = np.nan"
   ]
  },
  {
   "cell_type": "code",
   "execution_count": null,
   "metadata": {},
   "outputs": [],
   "source": []
  }
 ],
 "metadata": {
  "kernelspec": {
   "display_name": "Python 3",
   "language": "python",
   "name": "python3"
  },
  "language_info": {
   "codemirror_mode": {
    "name": "ipython",
    "version": 3
   },
   "file_extension": ".py",
   "mimetype": "text/x-python",
   "name": "python",
   "nbconvert_exporter": "python",
   "pygments_lexer": "ipython3",
   "version": "3.6.7"
  }
 },
 "nbformat": 4,
 "nbformat_minor": 2
}
